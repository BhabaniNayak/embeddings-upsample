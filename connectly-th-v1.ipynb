{
 "cells": [
  {
   "cell_type": "code",
   "execution_count": 1,
   "metadata": {},
   "outputs": [
    {
     "name": "stderr",
     "output_type": "stream",
     "text": [
      "2023-08-21 12:44:01.550304: I tensorflow/core/platform/cpu_feature_guard.cc:182] This TensorFlow binary is optimized to use available CPU instructions in performance-critical operations.\n",
      "To enable the following instructions: AVX2 FMA, in other operations, rebuild TensorFlow with the appropriate compiler flags.\n"
     ]
    }
   ],
   "source": [
    "import numpy as np\n",
    "import tensorflow as tf\n",
    "from tensorflow.keras.layers import Input, Dense, Lambda, BatchNormalization, Dropout, Input\n",
    "from tensorflow.keras.models import Model\n",
    "from tensorflow.keras.losses import MeanSquaredError\n",
    "from tensorflow.keras.optimizers import Adam\n",
    "from tensorflow.keras.callbacks import EarlyStopping\n",
    "from sklearn.metrics.pairwise import cosine_similarity\n",
    "from tensorflow.keras.regularizers import l2\n",
    "from tensorflow.keras.models import load_model\n",
    "import matplotlib.pyplot as plt"
   ]
  },
  {
   "cell_type": "markdown",
   "metadata": {},
   "source": [
    "# Load Data"
   ]
  },
  {
   "cell_type": "code",
   "execution_count": 2,
   "metadata": {},
   "outputs": [
    {
     "name": "stdout",
     "output_type": "stream",
     "text": [
      "Embeddings shape (12130, 32)\n"
     ]
    },
    {
     "data": {
      "text/plain": [
       "array([[ 0.34154157, -0.25009701,  0.41873148, ...,  0.1295138 ,\n",
       "        -0.12382773,  0.02611334],\n",
       "       [-0.46295469, -0.20625862, -0.01951506, ...,  0.05471029,\n",
       "         0.15638472,  0.05254342],\n",
       "       [ 0.20490593,  0.19485151,  0.14043505, ..., -0.14812004,\n",
       "         0.00460242, -0.08775376],\n",
       "       ...,\n",
       "       [ 0.38076696,  0.44038801, -0.40614511, ..., -0.02166328,\n",
       "         0.07803639, -0.19557152],\n",
       "       [ 0.19642034, -0.20449911,  0.64830647, ...,  0.11545152,\n",
       "        -0.04743452, -0.09632246],\n",
       "       [ 0.23217733,  0.14049537,  0.4784929 , ...,  0.17514701,\n",
       "         0.11465517,  0.08526579]])"
      ]
     },
     "execution_count": 2,
     "metadata": {},
     "output_type": "execute_result"
    }
   ],
   "source": [
    "# Load embeddings data\n",
    "training_embeddings = np.load('projected_train_embs.npy')\n",
    "print(\"Embeddings shape\", training_embeddings.shape)\n",
    "training_embeddings[3:]"
   ]
  },
  {
   "cell_type": "code",
   "execution_count": 3,
   "metadata": {},
   "outputs": [
    {
     "name": "stdout",
     "output_type": "stream",
     "text": [
      "Cosine similarity shape (12130, 12130)\n"
     ]
    },
    {
     "data": {
      "text/plain": [
       "array([[0.83787816, 0.83438727, 0.79985844, ..., 0.79386096, 0.85675628,\n",
       "        0.79112826],\n",
       "       [0.79880921, 0.83342499, 0.87225286, ..., 0.78417471, 0.81157338,\n",
       "        0.77252879],\n",
       "       [0.79382085, 0.82562821, 0.78502709, ..., 0.79344783, 0.79214703,\n",
       "        0.79230007],\n",
       "       ...,\n",
       "       [0.79577725, 0.79087241, 0.81281707, ..., 0.99999996, 0.76811411,\n",
       "        0.75941686],\n",
       "       [0.823834  , 0.82349527, 0.7803674 , ..., 0.76811411, 0.99999996,\n",
       "        0.80423958],\n",
       "       [0.78055384, 0.7598553 , 0.74479524, ..., 0.75941686, 0.80423958,\n",
       "        1.00000001]])"
      ]
     },
     "execution_count": 3,
     "metadata": {},
     "output_type": "execute_result"
    }
   ],
   "source": [
    "# Load cosine similarity data\n",
    "cosine_similarity_matrix = np.load('og_train_cos_theta.npy')\n",
    "print(\"Cosine similarity shape\", cosine_similarity_matrix.shape)\n",
    "cosine_similarity_matrix[3:]"
   ]
  },
  {
   "cell_type": "markdown",
   "metadata": {},
   "source": [
    "# Training v1"
   ]
  },
  {
   "cell_type": "markdown",
   "metadata": {},
   "source": [
    "#### High level approach:\n",
    "- Autoencoder seems a nice baseline to get started \n",
    "- The idea behind using an autoencoder is to leverage the lower-dimensional embeddings (training_embeddings) to learn a representation that can at least approximate, the higher-dimensional embeddings. \n",
    "- The provided cosine similarity matrix (cosine_similarity_matrix) serves as a guide to ensure the relationships between vectors are preserved.\n",
    "- To achieve this, lets define an autoencoder with the encoder reducing the embeddings to 32 dimensions and the decoder expanding them to a higher dimension (1536).\n",
    "- Train the autoencoder using the lower-dimensional embeddings (training_embeddings) as input and a dummy target variable.\n",
    "- Oserve the loss to make sure no underfitting\n",
    "- Compare the calculated cosine similarity matrix from the prediction of autoencoder to the original one\n",
    "- Calculate the average difference. This can be used for further optimization"
   ]
  },
  {
   "cell_type": "code",
   "execution_count": 4,
   "metadata": {},
   "outputs": [],
   "source": [
    "# Plot the training and validation loss\n",
    "def plot_training_val_loss(model_history):\n",
    "    plt.figure(figsize=(10, 6))\n",
    "    plt.plot(model_history.history['loss'], label='Training Loss')\n",
    "    plt.plot(model_history.history['val_loss'], label='Validation Loss')\n",
    "    plt.xlabel('Epoch')\n",
    "    plt.ylabel('Mean Squared Error Loss')\n",
    "    plt.title('Training and Validation Loss')\n",
    "    plt.legend()\n",
    "    plt.show()"
   ]
  },
  {
   "cell_type": "code",
   "execution_count": 5,
   "metadata": {},
   "outputs": [],
   "source": [
    "# Build the model\n",
    "input_dim = 32\n",
    "output_dim = 1536\n",
    "learning_rate=0.001\n",
    "patience=5\n",
    "min_delta = 0.001"
   ]
  },
  {
   "cell_type": "markdown",
   "metadata": {},
   "source": [
    "#### The key assumption here is that by minimizing the mean squared error during training, the autoencoder will learn a transformation that preserves the relationships and angles between vectors as much as possible. The approach is based on the idea that similar vectors in the original 32-dimensional space should remain similar after upsampling to the 1536-dimensional space."
   ]
  },
  {
   "cell_type": "markdown",
   "metadata": {},
   "source": [
    "#### Lets introduce a dummy target assuming the original high-dimensional embeddings represented by dummy_target here to guide the training"
   ]
  },
  {
   "cell_type": "code",
   "execution_count": 6,
   "metadata": {},
   "outputs": [],
   "source": [
    "def build_autoencoder(input_dim, encoded_dim, output_dim, dropout_rate=0.1, l2_reg=1e-4):\n",
    "    # Encoder\n",
    "    inputs = Input(shape=(input_dim,))\n",
    "    x = Dense(512, activation='relu', kernel_regularizer=l2(l2_reg))(inputs)\n",
    "    x = BatchNormalization()(x)\n",
    "    x = Dropout(dropout_rate)(x)\n",
    "    encoded = Dense(encoded_dim, activation='relu', kernel_regularizer=l2(l2_reg))(x)\n",
    "    \n",
    "    # Decoder\n",
    "    x = Dense(512, activation='relu', kernel_regularizer=l2(l2_reg))(encoded)\n",
    "    x = BatchNormalization()(x)\n",
    "    x = Dropout(dropout_rate)(x)\n",
    "    outputs = Dense(output_dim, activation='linear', kernel_regularizer=l2(l2_reg))(x)\n",
    "    \n",
    "    autoencoder = Model(inputs=inputs, outputs=outputs)\n",
    "    return autoencoder"
   ]
  },
  {
   "cell_type": "code",
   "execution_count": 7,
   "metadata": {},
   "outputs": [],
   "source": [
    "# Let's use Mean Squared Error as the loss function and the Adam optimizer\n",
    "autoencoder = build_autoencoder(32, 32, 1536)\n",
    "autoencoder.compile(optimizer=Adam(learning_rate=learning_rate), loss=MeanSquaredError())"
   ]
  },
  {
   "cell_type": "code",
   "execution_count": 8,
   "metadata": {},
   "outputs": [
    {
     "name": "stdout",
     "output_type": "stream",
     "text": [
      "Model: \"model\"\n",
      "_________________________________________________________________\n",
      " Layer (type)                Output Shape              Param #   \n",
      "=================================================================\n",
      " input_1 (InputLayer)        [(None, 32)]              0         \n",
      "                                                                 \n",
      " dense (Dense)               (None, 512)               16896     \n",
      "                                                                 \n",
      " batch_normalization (Batch  (None, 512)               2048      \n",
      " Normalization)                                                  \n",
      "                                                                 \n",
      " dropout (Dropout)           (None, 512)               0         \n",
      "                                                                 \n",
      " dense_1 (Dense)             (None, 32)                16416     \n",
      "                                                                 \n",
      " dense_2 (Dense)             (None, 512)               16896     \n",
      "                                                                 \n",
      " batch_normalization_1 (Bat  (None, 512)               2048      \n",
      " chNormalization)                                                \n",
      "                                                                 \n",
      " dropout_1 (Dropout)         (None, 512)               0         \n",
      "                                                                 \n",
      " dense_3 (Dense)             (None, 1536)              787968    \n",
      "                                                                 \n",
      "=================================================================\n",
      "Total params: 842272 (3.21 MB)\n",
      "Trainable params: 840224 (3.21 MB)\n",
      "Non-trainable params: 2048 (8.00 KB)\n",
      "_________________________________________________________________\n"
     ]
    }
   ],
   "source": [
    "autoencoder.summary()"
   ]
  },
  {
   "cell_type": "code",
   "execution_count": 9,
   "metadata": {},
   "outputs": [],
   "source": [
    "# Dummy target\n",
    "dummy_target = np.random.rand(12130, 1536)"
   ]
  },
  {
   "cell_type": "code",
   "execution_count": 10,
   "metadata": {},
   "outputs": [],
   "source": [
    "# Define early stopping callback to prevent overfitting\n",
    "early_stopping = EarlyStopping(patience=patience, min_delta = min_delta, restore_best_weights=True)"
   ]
  },
  {
   "cell_type": "code",
   "execution_count": 11,
   "metadata": {},
   "outputs": [
    {
     "name": "stdout",
     "output_type": "stream",
     "text": [
      "Epoch 1/100\n",
      "43/43 [==============================] - 2s 23ms/step - loss: 0.4664 - val_loss: 0.2391\n",
      "Epoch 2/100\n",
      "43/43 [==============================] - 1s 18ms/step - loss: 0.1873 - val_loss: 0.1355\n",
      "Epoch 3/100\n",
      "43/43 [==============================] - 1s 19ms/step - loss: 0.1434 - val_loss: 0.1197\n",
      "Epoch 4/100\n",
      "43/43 [==============================] - 1s 19ms/step - loss: 0.1252 - val_loss: 0.1105\n",
      "Epoch 5/100\n",
      "43/43 [==============================] - 1s 20ms/step - loss: 0.1146 - val_loss: 0.1046\n",
      "Epoch 6/100\n",
      "43/43 [==============================] - 1s 20ms/step - loss: 0.1077 - val_loss: 0.1008\n",
      "Epoch 7/100\n",
      "43/43 [==============================] - 1s 22ms/step - loss: 0.1033 - val_loss: 0.0981\n",
      "Epoch 8/100\n",
      "43/43 [==============================] - 1s 23ms/step - loss: 0.1003 - val_loss: 0.0962\n",
      "Epoch 9/100\n",
      "43/43 [==============================] - 1s 22ms/step - loss: 0.0982 - val_loss: 0.0946\n",
      "Epoch 10/100\n",
      "43/43 [==============================] - 1s 24ms/step - loss: 0.0962 - val_loss: 0.0933\n",
      "Epoch 11/100\n",
      "43/43 [==============================] - 1s 24ms/step - loss: 0.0948 - val_loss: 0.0922\n",
      "Epoch 12/100\n",
      "43/43 [==============================] - 1s 23ms/step - loss: 0.0933 - val_loss: 0.0913\n",
      "Epoch 13/100\n",
      "43/43 [==============================] - 1s 24ms/step - loss: 0.0913 - val_loss: 0.0908\n",
      "Epoch 14/100\n",
      "43/43 [==============================] - 1s 25ms/step - loss: 0.0892 - val_loss: 0.0895\n",
      "Epoch 15/100\n",
      "43/43 [==============================] - 1s 27ms/step - loss: 0.0884 - val_loss: 0.0887\n",
      "Epoch 16/100\n",
      "43/43 [==============================] - 1s 28ms/step - loss: 0.0879 - val_loss: 0.0881\n",
      "Epoch 17/100\n",
      "43/43 [==============================] - 1s 28ms/step - loss: 0.0874 - val_loss: 0.0875\n",
      "Epoch 18/100\n",
      "43/43 [==============================] - 1s 28ms/step - loss: 0.0870 - val_loss: 0.0871\n",
      "Epoch 19/100\n",
      "43/43 [==============================] - 1s 27ms/step - loss: 0.0867 - val_loss: 0.0867\n",
      "Epoch 20/100\n",
      "43/43 [==============================] - 1s 28ms/step - loss: 0.0864 - val_loss: 0.0864\n",
      "Epoch 21/100\n",
      "43/43 [==============================] - 1s 29ms/step - loss: 0.0861 - val_loss: 0.0862\n",
      "Epoch 22/100\n",
      "43/43 [==============================] - 1s 30ms/step - loss: 0.0859 - val_loss: 0.0860\n",
      "Epoch 23/100\n",
      "43/43 [==============================] - 1s 30ms/step - loss: 0.0858 - val_loss: 0.0858\n",
      "Epoch 24/100\n",
      "43/43 [==============================] - 1s 32ms/step - loss: 0.0856 - val_loss: 0.0856\n",
      "Epoch 25/100\n",
      "43/43 [==============================] - 1s 32ms/step - loss: 0.0855 - val_loss: 0.0855\n",
      "Epoch 26/100\n",
      "43/43 [==============================] - 1s 32ms/step - loss: 0.0854 - val_loss: 0.0854\n",
      "Epoch 27/100\n",
      "43/43 [==============================] - 1s 31ms/step - loss: 0.0853 - val_loss: 0.0853\n",
      "Epoch 28/100\n",
      "43/43 [==============================] - 1s 31ms/step - loss: 0.0852 - val_loss: 0.0852\n",
      "Epoch 29/100\n",
      "43/43 [==============================] - 1s 32ms/step - loss: 0.0851 - val_loss: 0.0852\n"
     ]
    }
   ],
   "source": [
    "# Training the autoencoder\n",
    "history_ae = autoencoder.fit(\n",
    "    training_embeddings, \n",
    "    dummy_target, \n",
    "    epochs=100, \n",
    "    batch_size=256, \n",
    "    validation_split=0.1,\n",
    "    callbacks=[early_stopping])"
   ]
  },
  {
   "cell_type": "code",
   "execution_count": 12,
   "metadata": {},
   "outputs": [
    {
     "data": {
      "image/png": "[encoded data removed]",
      "text/plain": [
       "<Figure size 1000x600 with 1 Axes>"
      ]
     },
     "metadata": {},
     "output_type": "display_data"
    }
   ],
   "source": [
    "plot_training_val_loss(history_ae)"
   ]
  },
  {
   "cell_type": "markdown",
   "metadata": {},
   "source": [
    "### Save model"
   ]
  },
  {
   "cell_type": "code",
   "execution_count": 13,
   "metadata": {},
   "outputs": [
    {
     "name": "stderr",
     "output_type": "stream",
     "text": [
      "/Library/Frameworks/Python.framework/Versions/3.11/lib/python3.11/site-packages/keras/src/engine/training.py:3000: UserWarning: You are saving your model as an HDF5 file via `model.save()`. This file format is considered legacy. We recommend using instead the native Keras format, e.g. `model.save('my_model.keras')`.\n",
      "  saving_api.save_model(\n"
     ]
    }
   ],
   "source": [
    "autoencoder.save('autoencoder_v1.h5')"
   ]
  },
  {
   "cell_type": "markdown",
   "metadata": {},
   "source": [
    "### Load model weights and predict"
   ]
  },
  {
   "cell_type": "code",
   "execution_count": 14,
   "metadata": {},
   "outputs": [],
   "source": [
    "# Load your autoencoder and weights\n",
    "autoencoder = load_model('autoencoder_v1.h5')"
   ]
  },
  {
   "cell_type": "code",
   "execution_count": 15,
   "metadata": {},
   "outputs": [
    {
     "name": "stdout",
     "output_type": "stream",
     "text": [
      "380/380 [==============================] - 2s 5ms/step\n",
      "Lower dimension embeddings size (12130, 32) and Higer dimension size (12130, 1536)\n"
     ]
    }
   ],
   "source": [
    "# Predict higher-dimensional embeddings from lower-dimensional input\n",
    "lower_dimension_embeddings = training_embeddings\n",
    "higher_dimension_embeddings = autoencoder.predict(lower_dimension_embeddings)\n",
    "print(f'Lower dimension embeddings size {lower_dimension_embeddings.shape} and Higer dimension size {higher_dimension_embeddings.shape}')"
   ]
  },
  {
   "cell_type": "code",
   "execution_count": 16,
   "metadata": {},
   "outputs": [],
   "source": [
    "# Compute the similarity score and compare with original similarity\n",
    "def compare_cosine_similarity(training_embeddings,cosine_similarity_matrix):\n",
    "    higher_dimension_embeddings = autoencoder.predict(training_embeddings)\n",
    "    \n",
    "    # Calculate cosine similarity matrix for the upsampled embeddings\n",
    "    upsampled_cosine_similarity_matrix = cosine_similarity(higher_dimension_embeddings)\n",
    "\n",
    "    print(\"Upsapled cosine similarity size\", upsampled_cosine_similarity_matrix.shape)\n",
    "\n",
    "    # Compare the calculated cosine similarity matrix to the original one\n",
    "    cosine_similarity_diff = np.abs(cosine_similarity_matrix - upsampled_cosine_similarity_matrix)\n",
    "\n",
    "    # Calculate the average difference\n",
    "    average_diff = np.mean(cosine_similarity_diff)\n",
    "\n",
    "    print(f\"Average cosine similarity difference: {average_diff:.4f}\")"
   ]
  },
  {
   "cell_type": "code",
   "execution_count": 17,
   "metadata": {},
   "outputs": [
    {
     "name": "stdout",
     "output_type": "stream",
     "text": [
      "380/380 [==============================] - 2s 5ms/step\n",
      "Upsapled cosine similarity size (12130, 12130)\n",
      "Average cosine similarity difference: 0.1801\n"
     ]
    }
   ],
   "source": [
    "compare_cosine_similarity(training_embeddings,cosine_similarity_matrix)"
   ]
  },
  {
   "cell_type": "markdown",
   "metadata": {},
   "source": [
    "# Flask App to serve the model"
   ]
  },
  {
   "cell_type": "markdown",
   "metadata": {},
   "source": [
    "##### Example curl requests:\n",
    "/batch_request\n",
    "- curl -X POST -H \"Content-Type: application/json\" -d '{\"input_filepath\": \"input.txt\", \"output_filepath\": \"output.txt\"}' http://127.0.0.1:8000/batch_request/\n",
    "\n",
    "/batch_status/?batch_request_id\n",
    "- curl -X GET \"http://127.0.0.1:8000/batch_status/?batch_request_id=988d8cd5-4be1-4953-9b9a-995ee4027c1c\"\n",
    "\n",
    "/realtime_request\n",
    "- curl -X POST -H \"Content-Type: application/json\" \\\n",
    "     -d '{\"input_embedding\": [0.1, 0.2, 0.3, 0.4, 0.5, 0.6, 0.7, 0.8, 0.9, 1.0, 1.1, 1.2, 1.3, 1.4, 1.5, 1.6, 1.7, 1.8, 1.9, 2.0, 2.1, 2.2, 2.3, 2.4, 2.5, 2.6, 2.7, 2.8, 2.9, 3.0, 3.1, 3.2]}' \\\n",
    "     http://localhost:8000/realtime_request/"
   ]
  },
  {
   "cell_type": "code",
   "execution_count": 18,
   "metadata": {},
   "outputs": [
    {
     "name": "stderr",
     "output_type": "stream",
     "text": [
      "\u001b[31m\u001b[1mWARNING: This is a development server. Do not use it in a production deployment. Use a production WSGI server instead.\u001b[0m\n",
      " * Running on http://localhost:8000\n",
      "\u001b[33mPress CTRL+C to quit\u001b[0m\n"
     ]
    }
   ],
   "source": [
    "from flask import Flask, request, jsonify\n",
    "from flask_executor import Executor\n",
    "from uuid import uuid4\n",
    "import numpy as np\n",
    "import tensorflow as tf\n",
    "\n",
    "autoencoder = load_model('autoencoder_v1.h5')\n",
    "\n",
    "app = Flask(__name__)\n",
    "executor = Executor(app)\n",
    "\n",
    "# To track the status of batch requests\n",
    "batch_statuses = {}\n",
    "\n",
    "def process_batch(input_filepath, output_filepath, batch_id):\n",
    "    try:\n",
    "        with open(input_filepath, 'r') as infile, open(output_filepath, 'w') as outfile:\n",
    "            count = 0\n",
    "            for line in infile:\n",
    "                embedding = np.array([float(x) for x in line.strip().split(',')])\n",
    "                upsampled_embedding = autoencoder.predict(embedding.reshape(1, -1)).flatten()  # Encoder model prediction\n",
    "\n",
    "                outfile.write(','.join(map(str, upsampled_embedding)) + '\\n')\n",
    "                count += 1\n",
    "                batch_statuses[batch_id][\"num_records_processed\"] = count\n",
    "\n",
    "        batch_statuses[batch_id][\"status\"] = \"COMPLETED\"\n",
    "    except Exception as e:\n",
    "        batch_statuses[batch_id][\"status\"] = \"FAILED\"\n",
    "\n",
    "@app.route('/batch_request/', methods=['POST'])\n",
    "def batch_request():\n",
    "    input_filepath = request.json.get('input_filepath')\n",
    "    output_filepath = request.json.get('output_filepath')\n",
    "\n",
    "    batch_id = str(uuid4())\n",
    "    batch_statuses[batch_id] = {\"status\": \"IN_PROGRESS\", \"num_records_processed\": 0}\n",
    "\n",
    "    executor.submit(process_batch, input_filepath, output_filepath, batch_id)\n",
    "    \n",
    "    return jsonify({\"batch_request_id\": batch_id})\n",
    "\n",
    "@app.route('/batch_status/', methods=['GET'])\n",
    "def batch_status():\n",
    "    batch_request_id = request.args.get('batch_request_id')\n",
    "    status_info = batch_statuses.get(batch_request_id, {\"status\": \"NOT_FOUND\", \"num_records_processed\": 0})\n",
    "    return jsonify(status_info)\n",
    "\n",
    "@app.route(\"/realtime_request/\", methods=[\"POST\"])\n",
    "def realtime_request():\n",
    "    data = request.json\n",
    "    input_embedding = data[\"input_embedding\"]\n",
    "\n",
    "    # Make sure the input_embedding is an ndarray of shape (1, 32)\n",
    "    input_array = np.array(input_embedding).reshape(1, -1)\n",
    "\n",
    "    # Predict the upsampled embedding\n",
    "    upsampled_embedding = autoencoder.predict(input_array)\n",
    "\n",
    "    print(upsampled_embedding.shape)\n",
    "\n",
    "    # Ensure the output shape is (1536,)\n",
    "    upsampled_embedding = upsampled_embedding.flatten()\n",
    "\n",
    "    return jsonify({\"upsampled_embedding\": upsampled_embedding.tolist()})\n",
    "\n",
    "if __name__ == '__main__':\n",
    "    from werkzeug.serving import run_simple\n",
    "    run_simple('localhost', 8000, app)\n"
   ]
  },
  {
   "cell_type": "markdown",
   "metadata": {},
   "source": [
    "#### Lets use the above model as baseline for creating the service"
   ]
  },
  {
   "cell_type": "markdown",
   "metadata": {},
   "source": [
    "# Optimization"
   ]
  },
  {
   "cell_type": "markdown",
   "metadata": {},
   "source": [
    "The key goal here is to match as close as the original cosine similarity for the original 1536-dimensional embeddings. \n",
    "The cosine similarity score between autoencoder output and the original score can be used as a guide to further optimize the model output.\n",
    "\n",
    "Option1:\n",
    "- Use Regularize with Cosine Similarity\n",
    "- Add a custom loss term to the training process that encourages the cosine similarities between the approximated embeddings to be close to those in the provided cosine similarity matrix.\n",
    "- The recovered embeddings are not only guided by the lower-dimensional embeddings but also by the pairwise relationships captured in the cosine similarity matrix.\n",
    "\n",
    "Option2:\n",
    "- We can consider using the cosine similarity matrix as target with pairs of input embeddings and compute the cosine similarity as target during training. \n",
    "- Randomly select a pair of input embeddings, use them as input, and set the corresponding entry from the cosine similarity matrix as the target\n",
    "- Create a loss function that computes the cosine similarity between the predicted 1536-dimensional embeddings and uses the provided Cosine Angle Similarity Matrix as the ground truth.\n",
    "- Create a Neural Network model (start with simple two hidden states)\n",
    "- Train the model to minimize the mean squared error between predicted and true cosine similarity values."
   ]
  }
 ],
 "metadata": {
  "kernelspec": {
   "display_name": "Python 3",
   "language": "python",
   "name": "python3"
  },
  "language_info": {
   "codemirror_mode": {
    "name": "ipython",
    "version": 3
   },
   "file_extension": ".py",
   "mimetype": "text/x-python",
   "name": "python",
   "nbconvert_exporter": "python",
   "pygments_lexer": "ipython3",
   "version": "3.11.4"
  },
  "orig_nbformat": 4
 },
 "nbformat": 4,
 "nbformat_minor": 2
}
